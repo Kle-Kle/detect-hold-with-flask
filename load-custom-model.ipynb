{
 "cells": [
  {
   "cell_type": "code",
   "execution_count": 16,
   "id": "bca87876",
   "metadata": {},
   "outputs": [],
   "source": [
    "import torch"
   ]
  },
  {
   "cell_type": "code",
   "execution_count": 29,
   "id": "7a278414",
   "metadata": {},
   "outputs": [
    {
     "name": "stdout",
     "output_type": "stream",
     "text": [
      "/workspace/yewonGPU/detect-hold-with-flask\n"
     ]
    }
   ],
   "source": [
    "%cd /workspace/yewonGPU/detect-hold-with-flask/"
   ]
  },
  {
   "cell_type": "code",
   "execution_count": 30,
   "id": "8c73ec4b",
   "metadata": {
    "scrolled": true
   },
   "outputs": [
    {
     "name": "stderr",
     "output_type": "stream",
     "text": [
      "Using cache found in /root/.cache/torch/hub/ultralytics_yolov5_master\n",
      "YOLOv5 🚀 2022-12-1 Python-3.8.10 torch-1.13.0+cu117 CUDA:0 (Tesla T4, 15110MiB)\n",
      "\n",
      "Fusing layers... \n",
      "Model summary: 157 layers, 7015519 parameters, 0 gradients, 15.8 GFLOPs\n",
      "Adding AutoShape... \n"
     ]
    }
   ],
   "source": [
    "model = torch.hub.load('ultralytics/yolov5', 'custom', '/workspace/yewonGPU/detect-hold-with-flask/hold.pt')  # custom/local model"
   ]
  },
  {
   "cell_type": "code",
   "execution_count": 31,
   "id": "a64fcbb3",
   "metadata": {
    "scrolled": false
   },
   "outputs": [
    {
     "data": {
      "text/plain": [
       "'[{\"xmin\":137.6468048096,\"ymin\":242.4343566895,\"xmax\":227.6498565674,\"ymax\":312.0726623535,\"confidence\":0.8671640754,\"class\":0,\"name\":\"hold\"},{\"xmin\":432.5866699219,\"ymin\":112.3675079346,\"xmax\":519.2680664062,\"ymax\":186.9302215576,\"confidence\":0.8606841564,\"class\":0,\"name\":\"hold\"},{\"xmin\":400.2341308594,\"ymin\":0.0,\"xmax\":528.4312133789,\"ymax\":93.1273040771,\"confidence\":0.8373295665,\"class\":0,\"name\":\"hold\"},{\"xmin\":14.8286209106,\"ymin\":61.7852249146,\"xmax\":174.5583190918,\"ymax\":192.9545898438,\"confidence\":0.820290029,\"class\":0,\"name\":\"hold\"},{\"xmin\":375.5499267578,\"ymin\":401.2878417969,\"xmax\":483.3328857422,\"ymax\":480.0,\"confidence\":0.7628865838,\"class\":0,\"name\":\"hold\"},{\"xmin\":209.3305664062,\"ymin\":106.5159759521,\"xmax\":459.6430053711,\"ymax\":328.5722045898,\"confidence\":0.6889007092,\"class\":0,\"name\":\"hold\"},{\"xmin\":25.4272346497,\"ymin\":366.085723877,\"xmax\":96.7956848145,\"ymax\":427.0364685059,\"confidence\":0.6641882658,\"class\":0,\"name\":\"hold\"},{\"xmin\":34.7122802734,\"ymin\":380.1252441406,\"xmax\":122.0910644531,\"ymax\":457.4266357422,\"confidence\":0.6438142061,\"class\":0,\"name\":\"hold\"},{\"xmin\":558.8047485352,\"ymin\":249.4212646484,\"xmax\":640.0,\"ymax\":348.8312988281,\"confidence\":0.6207999587,\"class\":0,\"name\":\"hold\"},{\"xmin\":75.2205352783,\"ymin\":441.0987548828,\"xmax\":159.7254180908,\"ymax\":480.0,\"confidence\":0.5488844514,\"class\":0,\"name\":\"hold\"},{\"xmin\":0.0,\"ymin\":0.0,\"xmax\":122.1675415039,\"ymax\":53.1284408569,\"confidence\":0.5425471663,\"class\":0,\"name\":\"hold\"},{\"xmin\":0.0,\"ymin\":428.009765625,\"xmax\":37.2978515625,\"ymax\":480.0,\"confidence\":0.3966830671,\"class\":0,\"name\":\"hold\"},{\"xmin\":0.331287384,\"ymin\":423.4981994629,\"xmax\":17.3591327667,\"ymax\":449.4235534668,\"confidence\":0.3055301905,\"class\":0,\"name\":\"hold\"},{\"xmin\":62.1775970459,\"ymin\":459.8171081543,\"xmax\":108.4010772705,\"ymax\":479.9199523926,\"confidence\":0.2964865863,\"class\":0,\"name\":\"hold\"}]'"
      ]
     },
     "execution_count": 31,
     "metadata": {},
     "output_type": "execute_result"
    }
   ],
   "source": [
    "imgs = ['tests/test1.jpg']\n",
    "\n",
    "results = model(imgs)\n",
    "\n",
    "results.pandas().xyxy[0].to_json(orient=\"records\")"
   ]
  },
  {
   "cell_type": "markdown",
   "id": "668694bf",
   "metadata": {
    "collapsed": true
   },
   "source": [
    "`cd /workspace/yewonGPU/detect-hold-with-flask`\n",
    "\n",
    "터미널에서 실행\n",
    "\n",
    "`python /workspace/yewonGPU/detect-hold-with-flask/restapi.py --port 5000`"
   ]
  },
  {
   "cell_type": "code",
   "execution_count": 33,
   "id": "1a6fb590",
   "metadata": {},
   "outputs": [
    {
     "name": "stdout",
     "output_type": "stream",
     "text": [
      "[{\"xmin\":137.6468048096,\"ymin\":242.4343566895,\"xmax\":227.6498565674,\"ymax\":312.0726623535,\"confidence\":0.8671640754,\"class\":0,\"name\":\"hold\"},{\"xmin\":432.5866699219,\"ymin\":112.3675079346,\"xmax\":519.2680664062,\"ymax\":186.9302215576,\"confidence\":0.8606841564,\"class\":0,\"name\":\"hold\"},{\"xmin\":400.2341308594,\"ymin\":0.0,\"xmax\":528.4312133789,\"ymax\":93.1273040771,\"confidence\":0.8373295665,\"class\":0,\"name\":\"hold\"},{\"xmin\":14.8286209106,\"ymin\":61.7852249146,\"xmax\":174.5583190918,\"ymax\":192.9545898438,\"confidence\":0.820290029,\"class\":0,\"name\":\"hold\"},{\"xmin\":375.5499267578,\"ymin\":401.2878417969,\"xmax\":483.3328857422,\"ymax\":480.0,\"confidence\":0.7628865838,\"class\":0,\"name\":\"hold\"},{\"xmin\":209.3305664062,\"ymin\":106.5159759521,\"xmax\":459.6430053711,\"ymax\":328.5722045898,\"confidence\":0.6889007092,\"class\":0,\"name\":\"hold\"},{\"xmin\":25.4272346497,\"ymin\":366.085723877,\"xmax\":96.7956848145,\"ymax\":427.0364685059,\"confidence\":0.6641882658,\"class\":0,\"name\":\"hold\"},{\"xmin\":34.7122802734,\"ymin\":380.1252441406,\"xmax\":122.0910644531,\"ymax\":457.4266357422,\"confidence\":0.6438142061,\"class\":0,\"name\":\"hold\"},{\"xmin\":558.8047485352,\"ymin\":249.4212646484,\"xmax\":640.0,\"ymax\":348.8312988281,\"confidence\":0.6207999587,\"class\":0,\"name\":\"hold\"},{\"xmin\":75.2205352783,\"ymin\":441.0987548828,\"xmax\":159.7254180908,\"ymax\":480.0,\"confidence\":0.5488844514,\"class\":0,\"name\":\"hold\"},{\"xmin\":0.0,\"ymin\":0.0,\"xmax\":122.1675415039,\"ymax\":53.1284408569,\"confidence\":0.5425471663,\"class\":0,\"name\":\"hold\"},{\"xmin\":0.0,\"ymin\":428.009765625,\"xmax\":37.2978515625,\"ymax\":480.0,\"confidence\":0.3966830671,\"class\":0,\"name\":\"hold\"},{\"xmin\":0.331287384,\"ymin\":423.4981994629,\"xmax\":17.3591327667,\"ymax\":449.4235534668,\"confidence\":0.3055301905,\"class\":0,\"name\":\"hold\"},{\"xmin\":62.1775970459,\"ymin\":459.8171081543,\"xmax\":108.4010772705,\"ymax\":479.9199523926,\"confidence\":0.2964865863,\"class\":0,\"name\":\"hold\"}]"
     ]
    }
   ],
   "source": [
    "# 테스트\n",
    "!curl -X POST -F image=@tests/test1.jpg 'http://localhost:5000/v1/object-detection/hold'"
   ]
  }
 ],
 "metadata": {
  "kernelspec": {
   "display_name": "Python 3 (ipykernel)",
   "language": "python",
   "name": "python3"
  },
  "language_info": {
   "codemirror_mode": {
    "name": "ipython",
    "version": 3
   },
   "file_extension": ".py",
   "mimetype": "text/x-python",
   "name": "python",
   "nbconvert_exporter": "python",
   "pygments_lexer": "ipython3",
   "version": "3.8.10"
  }
 },
 "nbformat": 4,
 "nbformat_minor": 5
}
